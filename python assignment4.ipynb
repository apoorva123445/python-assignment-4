{
 "cells": [
  {
   "cell_type": "markdown",
   "metadata": {},
   "source": [
    "1.1 Write a Python Program(with class concepts) to find the area of the triangle using the below  formula. \n",
    "area = (s*(s-a)*(s-b)*(s-c)) ** 0.5 \n",
    "Function to take the length of the sides of triangle from user should be defined in the parent  class and function to calculate the area should be defined in subclass. \n"
   ]
  },
  {
   "cell_type": "code",
   "execution_count": null,
   "metadata": {},
   "outputs": [],
   "source": []
  },
  {
   "cell_type": "code",
   "execution_count": 1,
   "metadata": {},
   "outputs": [
    {
     "name": "stdout",
     "output_type": "stream",
     "text": [
      "Area of the Triangle is 6.928203230275509\n"
     ]
    }
   ],
   "source": [
    "class Triangle:\n",
    "    def __init__(self, a, b, c):\n",
    "        self.a = a\n",
    "        self.b = b\n",
    "        self.c = c\n",
    "    def get_perimeter(self):\n",
    "        return (self.a + self.b + self.c)/ 2\n",
    "class Area(Triangle):\n",
    "    def __init__(self, s, *args, **kwargs):\n",
    "        super(Area, self).__init__(*args, **kwargs)\n",
    "        self.s = s\n",
    "    def __str__(self):\n",
    "        return \"Area of the Triangle is {}\".format(((self.s) * (self.s - self.a) * (self.s - self.b) * (self.s - self.c))** 0.5) \n",
    "\n",
    "    \n",
    "t = Triangle(4,4,4)\n",
    "t = Area(t.get_perimeter(),4,4,4)\n",
    "print(t)"
   ]
  },
  {
   "cell_type": "markdown",
   "metadata": {},
   "source": [
    "1.2 Write a function filter_long_words() that takes a list of words and an integer n and returns  the list of words that are longer than n."
   ]
  },
  {
   "cell_type": "code",
   "execution_count": 5,
   "metadata": {},
   "outputs": [
    {
     "name": "stdout",
     "output_type": "stream",
     "text": [
      "Enter a list of words:  those are cats ansd dogs\n",
      "Number: 3\n",
      "those\n",
      "cats\n",
      "ansd\n",
      "dogs\n"
     ]
    }
   ],
   "source": [
    "\n",
    "def filter_long_words(words,number):\n",
    "    words = words.split(\" \")\n",
    "    for i in range(len(words)):\n",
    "        if len(words[i]) >  number:\n",
    "            print(words[i])\n",
    " \n",
    "words = input(\"Enter a list of words: \")\n",
    "number = int(input(\"Number: \")) \n",
    "filter_long_words(words,number)"
   ]
  },
  {
   "cell_type": "markdown",
   "metadata": {},
   "source": [
    "2.1 Write a Python program using function concept that maps list of words into a list of integers  representing the lengths of the corresponding words. \n",
    "Hint: If a list [ ab,cde,erty] is passed on to the python function output should come as [2,3,4] Here 2,3 and 4 are the lengths of the words in the list. \n"
   ]
  },
  {
   "cell_type": "code",
   "execution_count": 3,
   "metadata": {},
   "outputs": [
    {
     "name": "stdout",
     "output_type": "stream",
     "text": [
      "Enter the list of words: apoorva kr gowda\n",
      "list of words:  ['apoorva', 'kr', 'gowda']\n",
      "List of wordlength: [7, 2, 5]\n"
     ]
    }
   ],
   "source": [
    "\n",
    "\n",
    "Word = input(\"Enter the list of words: \")\n",
    "Words = Word.split()\n",
    "word_num = []\n",
    " \n",
    "for i in range(len(Words)):\n",
    "    word_num.append(len(Words[i]))\n",
    "print (\"list of words: \", Words)    \n",
    "print (\"List of wordlength:\",word_num)"
   ]
  },
  {
   "cell_type": "markdown",
   "metadata": {},
   "source": [
    "2.2 Write a Python function which takes a character (i.e. a string of length 1) and returns True if  it is a vowel, False otherwise. "
   ]
  },
  {
   "cell_type": "code",
   "execution_count": 6,
   "metadata": {},
   "outputs": [
    {
     "name": "stdout",
     "output_type": "stream",
     "text": [
      "False\n",
      "True\n"
     ]
    }
   ],
   "source": [
    "def is_vowel(char):\n",
    "    all_vowels = 'aeiou'\n",
    "    return char in all_vowels\n",
    "print(is_vowel('m'))\n",
    "print(is_vowel('a'))"
   ]
  },
  {
   "cell_type": "code",
   "execution_count": null,
   "metadata": {},
   "outputs": [],
   "source": []
  }
 ],
 "metadata": {
  "kernelspec": {
   "display_name": "Python 3",
   "language": "python",
   "name": "python3"
  },
  "language_info": {
   "codemirror_mode": {
    "name": "ipython",
    "version": 3
   },
   "file_extension": ".py",
   "mimetype": "text/x-python",
   "name": "python",
   "nbconvert_exporter": "python",
   "pygments_lexer": "ipython3",
   "version": "3.8.5"
  }
 },
 "nbformat": 4,
 "nbformat_minor": 4
}
